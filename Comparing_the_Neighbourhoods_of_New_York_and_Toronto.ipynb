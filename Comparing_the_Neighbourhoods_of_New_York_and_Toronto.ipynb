{
 "cells": [
  {
   "cell_type": "markdown",
   "metadata": {},
   "source": [
    "### NeighborHood class is defined which extracts all data and plots maps"
   ]
  },
  {
   "cell_type": "code",
   "execution_count": 564,
   "metadata": {},
   "outputs": [
    {
     "name": "stdout",
     "output_type": "stream",
     "text": [
      "Shopping .... OK!\n"
     ]
    }
   ],
   "source": [
    "#!conda install -c conda-forge geopy --yes \n",
    "from geopy.geocoders import Nominatim\n",
    "import pandas as pd\n",
    "import requests\n",
    "\n",
    "class NeighborHood:\n",
    "    CLIENT_ID = 'HLA3MIYDXWRD1MTILQ0M0J3XMH5TNFAOPTPBZRHMMU53YXL4' # your Foursquare ID\n",
    "    CLIENT_SECRET = 'CILVKEPKXAUDTC3FEA0KU2F5VNZM33XASCFYI3JZQIAEYEJX' # your Foursquare Secret\n",
    "    VERSION = '20180604'\n",
    "    LIMIT = 100\n",
    "    def __init__(self,place,search_query):\n",
    "        geolocator = Nominatim(user_agent=\"foursquare_agent\")\n",
    "        location = geolocator.geocode(place)\n",
    "        self.latitude = location.latitude\n",
    "        self.longitude = location.longitude\n",
    "        self.pull_foursquare_data(search_query)\n",
    "        \n",
    "    def pull_foursquare_data(self,search_query):\n",
    "        #for search_query in ['Food','coffee','Nightlife','Shopping','Fun']:\n",
    "        #search_query = 'Food'\n",
    "        radius = 2000\n",
    "        print(search_query + ' .... OK!')\n",
    "        url = 'https://api.foursquare.com/v2/venues/search?client_id={}&client_secret={}&ll={},\\\n",
    "            {}&v={}&query={}&radius={}&limit={}'.format(CLIENT_ID, CLIENT_SECRET, \n",
    "                                                        self.latitude, self.longitude, VERSION, \n",
    "                                                        search_query, radius, LIMIT)\n",
    "\n",
    "        \n",
    "        results = requests.get(url).json()\n",
    "\n",
    "        # assign relevant part of JSON to venues\n",
    "        venues = results['response']['venues']\n",
    "\n",
    "        # tranform venues into a dataframe\n",
    "        from pandas.io.json import json_normalize\n",
    "        required_frame=json_normalize(venues)\n",
    "        required_frame = required_frame.loc[:,['name','categories','location.lat','location.lng']]\n",
    "        required_frame['categories'] = required_frame.apply(get_category_type,axis=1)\n",
    "        self.dataframe = required_frame\n",
    "    \n",
    "    @staticmethod\n",
    "    def get_category_type(row):\n",
    "        try:\n",
    "            categories_list = row['categories']\n",
    "        except:\n",
    "            categories_list = row['venue.categories']\n",
    "\n",
    "        if len(categories_list) == 0:\n",
    "            return None\n",
    "        else:\n",
    "            return categories_list[0]['name']\n",
    "        \n",
    "    def plot_map(self):\n",
    "        df=self.dataframe\n",
    "\n",
    "        #print(df.head())\n",
    "        self.venues_map=folium.Map([self.latitude, self.longitude], zoom_start=13)\n",
    "        #print(type(venues_map))\n",
    "        folium.CircleMarker(location=[self.latitude, self.longitude],radius=10,color='red',\n",
    "                                 popup='Center Location',fill = True,fill_color = 'red',fill_opacity = 0.6\n",
    "                                ).add_to(self.venues_map)\n",
    "        for lat, lng, nm,ctg in zip(df['location.lat'], df['location.lng'], df['name'],df['categories']):\n",
    "            #print(lat,lng,label)\n",
    "            label = '{}, {}'.format(nm, ctg)\n",
    "            folium.CircleMarker([lat, lng],radius=10,color='blue',fill = True,popup=folium.Popup(label,parse_html=True),\n",
    "                                fill_color='blue',fill_opacity=0.6).add_to(self.venues_map)\n",
    "            \n",
    "        \n",
    "    def cluster_data(self,num_clusters):\n",
    "        X = self.dataframe.values[:,2:]\n",
    "        X = pd.np.nan_to_num(X)\n",
    "        \n",
    "        from sklearn.preprocessing import StandardScaler\n",
    "        cluster_dataset = StandardScaler().fit_transform(X)\n",
    "        \n",
    "        from sklearn.cluster import KMeans \n",
    "        from sklearn.datasets.samples_generator import make_blobs\n",
    "        #num_clusters = 4\n",
    "\n",
    "        k_means = KMeans(init=\"k-means++\", n_clusters=num_clusters, n_init=12)\n",
    "        k_means.fit(cluster_dataset)\n",
    "        labels = k_means.labels_\n",
    "\n",
    "        self.dataframe['labels'] = labels\n",
    "        #print(labels)\n",
    "        \n",
    "    def plot_cluster(self):\n",
    "        color_map = {0:'blue',1:'red',2:'green',3:'orange',4:'magenta',5:'cyan'}\n",
    "        \n",
    "        df=self.dataframe\n",
    "        self.cluster_map=folium.Map([self.latitude, self.longitude], zoom_start=13)\n",
    "        for lat, lng, nm,ctg,label_color in zip(df['location.lat'], df['location.lng'], df['name'],df['categories'],df['labels']):\n",
    "            label = '{}, {}'.format(nm, ctg)\n",
    "            label = folium.Popup(label, parse_html=True)\n",
    "            folium.CircleMarker([lat, lng],radius=5,popup=label,color=color_map[label_color],\n",
    "                                fill=True,fill_color='white',\n",
    "                                fill_opacity=0.7,parse_html=False).add_to(self.cluster_map)\n",
    "\n"
   ]
  },
  {
   "cell_type": "code",
   "execution_count": 614,
   "metadata": {},
   "outputs": [],
   "source": [
    "data = pd.DataFrame(data=None,columns=['Food','coffee','shopping','fun','Nightlife'],index=['Toronto','New York'])"
   ]
  },
  {
   "cell_type": "code",
   "execution_count": 615,
   "metadata": {},
   "outputs": [
    {
     "data": {
      "text/html": [
       "<div>\n",
       "<style scoped>\n",
       "    .dataframe tbody tr th:only-of-type {\n",
       "        vertical-align: middle;\n",
       "    }\n",
       "\n",
       "    .dataframe tbody tr th {\n",
       "        vertical-align: top;\n",
       "    }\n",
       "\n",
       "    .dataframe thead th {\n",
       "        text-align: right;\n",
       "    }\n",
       "</style>\n",
       "<table border=\"1\" class=\"dataframe\">\n",
       "  <thead>\n",
       "    <tr style=\"text-align: right;\">\n",
       "      <th></th>\n",
       "      <th>Food</th>\n",
       "      <th>coffee</th>\n",
       "      <th>shopping</th>\n",
       "      <th>fun</th>\n",
       "      <th>Nightlife</th>\n",
       "    </tr>\n",
       "  </thead>\n",
       "  <tbody>\n",
       "    <tr>\n",
       "      <th>Toronto</th>\n",
       "      <td>NaN</td>\n",
       "      <td>NaN</td>\n",
       "      <td>NaN</td>\n",
       "      <td>NaN</td>\n",
       "      <td>NaN</td>\n",
       "    </tr>\n",
       "    <tr>\n",
       "      <th>New York</th>\n",
       "      <td>NaN</td>\n",
       "      <td>NaN</td>\n",
       "      <td>NaN</td>\n",
       "      <td>NaN</td>\n",
       "      <td>NaN</td>\n",
       "    </tr>\n",
       "  </tbody>\n",
       "</table>\n",
       "</div>"
      ],
      "text/plain": [
       "         Food coffee shopping  fun Nightlife\n",
       "Toronto   NaN    NaN      NaN  NaN       NaN\n",
       "New York  NaN    NaN      NaN  NaN       NaN"
      ]
     },
     "execution_count": 615,
     "metadata": {},
     "output_type": "execute_result"
    }
   ],
   "source": [
    "data"
   ]
  },
  {
   "cell_type": "code",
   "execution_count": 616,
   "metadata": {},
   "outputs": [
    {
     "name": "stdout",
     "output_type": "stream",
     "text": [
      "Food .... OK!\n",
      "coffee .... OK!\n",
      "shopping .... OK!\n",
      "fun .... OK!\n",
      "Nightlife .... OK!\n",
      "Food .... OK!\n",
      "coffee .... OK!\n",
      "shopping .... OK!\n",
      "fun .... OK!\n",
      "Nightlife .... OK!\n"
     ]
    }
   ],
   "source": [
    "for i in data.index:\n",
    "    for j in data.columns:\n",
    "        data.loc[i,j]=NeighborHood(i,j)"
   ]
  },
  {
   "cell_type": "code",
   "execution_count": 617,
   "metadata": {},
   "outputs": [],
   "source": [
    "for i in data.index:\n",
    "    for j in data.columns:\n",
    "        count_data.loc[i,j]=data.loc[i,j].dataframe.shape[0]"
   ]
  },
  {
   "cell_type": "code",
   "execution_count": 618,
   "metadata": {},
   "outputs": [
    {
     "data": {
      "text/html": [
       "<div>\n",
       "<style scoped>\n",
       "    .dataframe tbody tr th:only-of-type {\n",
       "        vertical-align: middle;\n",
       "    }\n",
       "\n",
       "    .dataframe tbody tr th {\n",
       "        vertical-align: top;\n",
       "    }\n",
       "\n",
       "    .dataframe thead th {\n",
       "        text-align: right;\n",
       "    }\n",
       "</style>\n",
       "<table border=\"1\" class=\"dataframe\">\n",
       "  <thead>\n",
       "    <tr style=\"text-align: right;\">\n",
       "      <th></th>\n",
       "      <th>Food</th>\n",
       "      <th>coffee</th>\n",
       "      <th>shopping</th>\n",
       "      <th>fun</th>\n",
       "      <th>Nightlife</th>\n",
       "    </tr>\n",
       "  </thead>\n",
       "  <tbody>\n",
       "    <tr>\n",
       "      <th>Toronto</th>\n",
       "      <td>50</td>\n",
       "      <td>50</td>\n",
       "      <td>6</td>\n",
       "      <td>49</td>\n",
       "      <td>1</td>\n",
       "    </tr>\n",
       "    <tr>\n",
       "      <th>New York</th>\n",
       "      <td>50</td>\n",
       "      <td>50</td>\n",
       "      <td>12</td>\n",
       "      <td>50</td>\n",
       "      <td>3</td>\n",
       "    </tr>\n",
       "  </tbody>\n",
       "</table>\n",
       "</div>"
      ],
      "text/plain": [
       "          Food  coffee  shopping  fun  Nightlife\n",
       "Toronto     50      50         6   49          1\n",
       "New York    50      50        12   50          3"
      ]
     },
     "execution_count": 618,
     "metadata": {},
     "output_type": "execute_result"
    }
   ],
   "source": [
    "count_data"
   ]
  },
  {
   "cell_type": "code",
   "execution_count": 628,
   "metadata": {},
   "outputs": [
    {
     "data": {
      "image/png": "[encoded data removed]",
      "text/plain": [
       "<Figure size 432x288 with 1 Axes>"
      ]
     },
     "metadata": {
      "needs_background": "light"
     },
     "output_type": "display_data"
    }
   ],
   "source": [
    "ax = count_data.plot.bar(y=['shopping','Nightlife'],rot=0)"
   ]
  },
  {
   "cell_type": "code",
   "execution_count": null,
   "metadata": {},
   "outputs": [],
   "source": []
  }
 ],
 "metadata": {
  "kernelspec": {
   "display_name": "Python 3",
   "language": "python",
   "name": "python3"
  },
  "language_info": {
   "codemirror_mode": {
    "name": "ipython",
    "version": 3
   },
   "file_extension": ".py",
   "mimetype": "text/x-python",
   "name": "python",
   "nbconvert_exporter": "python",
   "pygments_lexer": "ipython3",
   "version": "3.7.3"
  }
 },
 "nbformat": 4,
 "nbformat_minor": 2
}
